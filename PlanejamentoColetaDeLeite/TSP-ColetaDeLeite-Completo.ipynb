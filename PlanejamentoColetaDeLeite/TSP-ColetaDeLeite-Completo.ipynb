{
 "cells": [
  {
   "cell_type": "code",
   "execution_count": 1,
   "id": "ca8bde6e",
   "metadata": {},
   "outputs": [],
   "source": [
    "from pyomo.environ import *\n",
    "from pyomo.opt import SolverStatus, TerminationCondition\n",
    "import numpy as np"
   ]
  },
  {
   "cell_type": "code",
   "execution_count": 2,
   "id": "b74f36e8",
   "metadata": {},
   "outputs": [],
   "source": [
    "def print_rota_otima(Modelo):\n",
    "    lista_produtores_ordenados = [(i, value(Modelo.y1[i])) for i, v in Modelo.y1.items() \n",
    "                                  if value(Modelo.y1[i]) != 0 or i == 0]\n",
    "    lista_produtores_ordenados.sort(key=lambda x: x[1])\n",
    "\n",
    "    print('Rota ótima dia 1:')\n",
    "    print(' -> '.join(str(p) for p, _ in lista_produtores_ordenados))\n",
    "\n",
    "    lista_produtores_ordenados = [(i, value(Modelo.y2[i])) for i, v in Modelo.y2.items() \n",
    "                                  if value(Modelo.y2[i]) and i != 0]\n",
    "    lista_produtores_ordenados.sort(key=lambda x: x[1])\n",
    "\n",
    "    print('Rota ótima dia 2:')\n",
    "    print(' -> '.join(str(p) for p, _ in lista_produtores_ordenados))\n"
   ]
  },
  {
   "cell_type": "markdown",
   "id": "8c268aee",
   "metadata": {},
   "source": [
    "# Planejamento de Coleta de Leite\n",
    "\n",
    "---\n",
    "### Descrição do Problema\n",
    "\n",
    "Uma empresa de processamento de leite e derivados é responsável pela coleta de leite produzido por 20 fazendeiros, de forma que o leite seja entregue ao depósito, ou laticínio. A empresa possui um caminhão tanque com capacidade de 80.000 litros de leite. Dos 20 produtores/fazendeiros, 11 são de pequeno porte, de forma que sua produção pode ser coletada em dias alternados (ou seja, dia sim, dia não). Os 9 outros produtores precisam ter suas produções coletadas diariamente. As localizações dos produtores e do laticínio, bem como as demandas de coleta (por visita, ou seja, diária para os que devem ser visitados diariamente e total, referente a dois dias, para os demais) são apresentadas na Tabela 1. Note que a origem do sistema de coordenadas é colocada no ponto 1, que representa o laticínio.\n",
    "\n",
    "Planeje a rota do caminhão tanque, de forma que o veículo percorra a mínima distância possível. Ou seja, deve-se planejar a rota para dois dias de coleta. Em cada um destes dias, os clientes de grande porte devem ser visitados. No primeiro dia, alguns dos clientes de pequeno porte podem ser visitados. Os que não forem visitados no primeiro dia devem ser visitados no segundo dia de planejamento. A capacidade do veículo deve ser respeitada em cada um dos dias. Assume-se que o veículo parte e retorna ao depósito em cada um destes dias.\n",
    "\n",
    "[Mais detalhes do problema](exercicio-coleta-leite.pdf)\n"
   ]
  },
  {
   "cell_type": "markdown",
   "id": "2645105a",
   "metadata": {},
   "source": [
    "Este trabalho descreve a implementação do modelo MTZ (Miller-Tucker-Zemlin) e sua versão reforçada para resolver o Travelling Salesman Problem (TSP), um desafio clássico em otimização combinatória. Em uma instância específica, o TSP é contextualizado da seguinte forma:\n",
    "\n",
    "* Uma empresa de laticínios busca otimizar a rota de seu caminhão-tanque, responsável pela coleta de leite em vários fornecedores, visando minimizar a distância total percorrida.\n",
    "* O planejamento logístico deve cobrir dois dias consecutivos e considerar não apenas a distância entre os fazendeiros, mas também a frequência de visitas a cada cliente e a capacidade de carga do caminhão.\n",
    "\n",
    "O objetivo principal é encontrar a rota mais eficiente para o deslocamento do veículo. Isso será alcançado através da formulação matemática do modelo MTZ para o problema de otimização combinatória mencionado, com o intuito de explorar e compreender as implicações resultantes das decisões de modelagem."
   ]
  },
  {
   "cell_type": "markdown",
   "id": "11751e09",
   "metadata": {},
   "source": [
    "## Parâmetros para a modelagem"
   ]
  },
  {
   "cell_type": "code",
   "execution_count": 3,
   "id": "7a3c4b17",
   "metadata": {},
   "outputs": [],
   "source": [
    "# Lista de produtores, representando os índices dos produtores\n",
    "produtores = list(range(0, 21))\n",
    "\n",
    "# Dicionário de demandas dos produtores, onde a chave é o índice do produtor \n",
    "# e o valor é a demanda correspondente\n",
    "demandas = {0: 0, 1: 5000, 2: 4000, 3: 3000, 4: 6000, 5: 7000, 6: 3000, 7: 4000, 8: 6000, \n",
    "                    9: 5000, 10: 4000, 11: 7000, 12: 3000, 13: 4000, 14: 5000, 15: 6000, 16: 8000, \n",
    "                    17: 5000, 18: 7000, 19: 6000, 20: 6000}\n",
    "\n",
    "# Capacidade total do veículo de coleta\n",
    "capacidade = 80000\n",
    "\n",
    "# Dicionário de frequência de coleta dos produtores, onde a chave é o índice do produtor \n",
    "# e o valor é a frequência de coleta ('d' para diária, 'alt' para alternada)\n",
    "frequencia_coleta = {i: 'd' if i < 10 else 'alt' for i in range(21)}\n",
    "\n",
    "# Dicionário de coordenadas dos produtores, onde a chave é o índice do produtor \n",
    "# e o valor é uma tupla representando as coordenadas (x, y) do produtor\n",
    "coordenadas = {i: coord for i, coord in enumerate([(0, 0), (-30, 30), (10, 110), (40, 70), (-50, 90),\n",
    "               (-50, -20), (-40, -70), (60, 0), (30, -60), (-10, -30),\n",
    "               (0, -60), (60, 40), (20, 50), (-20, 80), (60, 100),\n",
    "               (10, 80), (-30, 10), (-60, 50), (20, 90), (-60, -50), (50, -40)])}\n"
   ]
  },
  {
   "cell_type": "code",
   "execution_count": 4,
   "id": "7e594c21",
   "metadata": {},
   "outputs": [],
   "source": [
    "def calcula_distancia_produtores(p1, p2):\n",
    "        return  np.sqrt((coordenadas[p1][0] - coordenadas[p2][0])**2 + (coordenadas[p1][1] - \n",
    "                                                                            coordenadas[p2][1])**2)"
   ]
  },
  {
   "cell_type": "markdown",
   "id": "15eb762d",
   "metadata": {},
   "source": [
    "## Variáveis de Decisão"
   ]
  },
  {
   "cell_type": "code",
   "execution_count": 5,
   "id": "5b017359",
   "metadata": {},
   "outputs": [],
   "source": [
    "Modelo = ConcreteModel()\n",
    "\n",
    "# Define variáveis booleanas que indicam se a aresta X(i,j) existe, \n",
    "# ou seja, se o produtor i está conectado ao produtor j\n",
    "Modelo.x1 = Var(produtores, produtores, within=Boolean)\n",
    "Modelo.x2 = Var(produtores, produtores, within=Boolean)\n",
    "\n",
    "# Define variáveis que representam o numero de produtores visitados \n",
    "# antes de visitar o produtor i nos dias 1 e 2 \n",
    "Modelo.y1 = Var(produtores, within=NonNegativeIntegers)\n",
    "Modelo.y2 = Var(produtores, within=NonNegativeIntegers)\n",
    "\n",
    "# Cria uma lista com os indices dos produtores menores com base na frequência de coleta\n",
    "produtores_alt = [p for p in produtores if frequencia_coleta[p] == 'alt']\n",
    "\n",
    "# Define variáveis booleanas que indicam o dia de visita para os produtores menores \n",
    "# (0 para o primeiro dia, 1 para o segundo dia)\n",
    "Modelo.z = Var(produtores_alt, within=Boolean)"
   ]
  },
  {
   "cell_type": "markdown",
   "id": "bd9d4cdc",
   "metadata": {},
   "source": [
    "## Definindo o objetivo \n",
    "### (Minimizar a distância percorrida nos dois dias)"
   ]
  },
  {
   "cell_type": "code",
   "execution_count": 6,
   "id": "b039b874",
   "metadata": {},
   "outputs": [],
   "source": [
    "# Cálculo da distância total percorrida no dia 1\n",
    "distancia1 = sum(sum(Modelo.x1[i, j] * calcula_distancia_produtores(i, j) \n",
    "                     for j in produtores) for i in produtores)\n",
    "\n",
    "# Cálculo da distância total percorrida no dia 2\n",
    "distancia2 = sum(sum(Modelo.x2[i, j] * calcula_distancia_produtores(i, j) \n",
    "                     for j in produtores) for i in produtores)\n",
    "\n",
    "# Função objetivo do modelo, define o objetivo de minimizar distância total\n",
    "Modelo.obj = Objective(expr=(distancia1 + distancia2), sense=minimize)"
   ]
  },
  {
   "cell_type": "markdown",
   "id": "540bc7e3",
   "metadata": {},
   "source": [
    "## Definindo as restrições"
   ]
  },
  {
   "cell_type": "code",
   "execution_count": 7,
   "id": "1d7e297d",
   "metadata": {},
   "outputs": [],
   "source": [
    "Modelo.restricoes = ConstraintList()\n",
    "\n",
    "# Garante 2 visitas aos produtores maiores \n",
    "# e 1 visita para alternados entre o par de dias de coleta\n",
    "for i in produtores:\n",
    "    Modelo.restricoes.add(Modelo.x1[i, i] == 0)\n",
    "    Modelo.restricoes.add(Modelo.x2[i, i] == 0)\n",
    "    if frequencia_coleta[i] == 'd':\n",
    "        Modelo.restricoes.add(sum(Modelo.x1[i, j] for j in produtores if j != i) == 1)\n",
    "        Modelo.restricoes.add(sum(Modelo.x2[i, j] for j in produtores if j != i) == 1)\n",
    "\n",
    "    else:\n",
    "        Modelo.restricoes.add(sum( Modelo.x1[i, j] for j in produtores if j != i) ==  Modelo.z[i])\n",
    "        Modelo.restricoes.add(sum( Modelo.x2[i, j] for j in produtores if j != i) ==  1 - Modelo.z[i])\n",
    "   \n",
    "for j in produtores:\n",
    "    if frequencia_coleta[j] == 'd':\n",
    "        Modelo.restricoes.add(sum(Modelo.x1[i, j] for i in produtores if j != i) == 1)\n",
    "        Modelo.restricoes.add(sum(Modelo.x2[i, j] for i in produtores if j != i) == 1)\n",
    "    else:\n",
    "        Modelo.restricoes.add(sum( Modelo.x1[i, j] for i in produtores if j != i) ==  Modelo.z[j])\n",
    "        Modelo.restricoes.add(sum( Modelo.x2[i, j] for i in produtores if j != i) ==  1 - Modelo.z[j])\n",
    "\n",
    "# Garante que a demanda coletada em cada dia não exceda a capacidade total do veículo\n",
    "demanda_fixa = sum(demandas[p] for p in produtores if frequencia_coleta[p] == 'd')\n",
    "Modelo.restricoes.add(demanda_fixa + sum(demandas[i] * Modelo.z[i] for i in produtores_alt ) <= capacidade)\n",
    "Modelo.restricoes.add(demanda_fixa + sum(demandas[i] * (1-Modelo.z[i]) for i in produtores_alt) <= capacidade)\n",
    "\n",
    "# Garante que a rota comece no ponto de partida (zero)\n",
    "Modelo.restricoes.add(Modelo.y1[0] == 0)\n",
    "Modelo.restricoes.add(Modelo.y2[0] == 0)\n",
    "for i in produtores[1:]:\n",
    "    Modelo.restricoes.add(Modelo.y1[i]>=0)\n",
    "    Modelo.restricoes.add(Modelo.y2[i]>=0)\n",
    "\n",
    "# Calcula o número máximo de vértices possíveis de serem visitados em uma única rota\n",
    "# considerando sempre a visita de todos produtores grandes\n",
    "soma = demanda_fixa\n",
    "n = 10\n",
    "# Filtrando as demandas apenas para os produtores menores\n",
    "demandas_produtores_alt = {k: v for k, v in demandas.items() if k in produtores_alt}\n",
    "# Ordenando as demandas dos produtores menores\n",
    "for k, v in sorted(demandas_produtores_alt.items(), key=lambda x: x[1]):\n",
    "    soma += v\n",
    "    if soma > capacidade:\n",
    "        break\n",
    "    n += 1"
   ]
  },
  {
   "cell_type": "markdown",
   "id": "0d460969",
   "metadata": {},
   "source": [
    "## Formulação Fraca\n",
    "As seguintes restrições garantem a conexão completa do grafo da solução, assegurando a existência de um único circuito ótimo que visite todos os vértices em um dado dia. No entanto, observe que essa desigualdade apresenta uma considerável folga para a maioria dos pares de vértices. Isso se reflete durante a etapa de relaxação linear, onde o limite dual alcançado fica significativamente distante do valor ótimo da função objetivo do problema de programação inteira. Como resultado, o algoritmo de Branch-and-Bound pode enfrentar dificuldades na convergência para encontrar a solução desejada, devido à modelagem fraca do problema."
   ]
  },
  {
   "cell_type": "code",
   "execution_count": 8,
   "id": "e55ebd62",
   "metadata": {},
   "outputs": [
    {
     "data": {
      "text/plain": [
       "'\\n\\nfor i in produtores:\\n    for j in produtores[1:]:\\n        Modelo.restricoes.add(Modelo.y1[j] >= Modelo.y1[i] + Modelo.x1[i, j] * (n - 1) - (n - 2))\\n        Modelo.restricoes.add(Modelo.y2[j] >= Modelo.y2[i] + Modelo.x2[i, j] * (n - 1) - (n - 2))\\n\\n'"
      ]
     },
     "execution_count": 8,
     "metadata": {},
     "output_type": "execute_result"
    }
   ],
   "source": [
    "\"\"\"\n",
    "for i in produtores:\n",
    "    for j in produtores[1:]:\n",
    "        Modelo.restricoes.add(Modelo.y1[j] >= Modelo.y1[i] + Modelo.x1[i, j] * (n - 1) - (n - 2))\n",
    "        Modelo.restricoes.add(Modelo.y2[j] >= Modelo.y2[i] + Modelo.x2[i, j] * (n - 1) - (n - 2))\n",
    "\n",
    "\"\"\""
   ]
  },
  {
   "cell_type": "markdown",
   "id": "5a832f8b",
   "metadata": {},
   "source": [
    "## Formulação Fortalecida\n",
    "\n",
    "O novo conjunto de restrições de desigualdade é mais restritiva em comparação com a anterior. Portanto, essa restrição é menos flexível e estabelece um limite inferior mais próximo do valor da função objetivo do problema de otimização combinatória, obtido através da relaxação linear. Como resultado, o algoritmo de Branch-and-Bound tende a se tornar mais eficiente, graças a uma formulação mais precisa.\n"
   ]
  },
  {
   "cell_type": "code",
   "execution_count": 9,
   "id": "caf85f50",
   "metadata": {},
   "outputs": [],
   "source": [
    "for i in produtores:\n",
    "    for j in produtores[1:]:\n",
    "        Modelo.restricoes.add(Modelo.y1[j] >= Modelo.y1[i] + Modelo.x1[i, j] * (n - 1) \n",
    "                              + Modelo.x1[j, i] * (n - 3) - (n - 2))\n",
    "        Modelo.restricoes.add(Modelo.y2[j] >= Modelo.y2[i] + Modelo.x2[i, j] * (n - 1) \n",
    "                              + Modelo.x2[j, i] * (n - 3) - (n - 2))"
   ]
  },
  {
   "cell_type": "markdown",
   "id": "3259b632",
   "metadata": {},
   "source": [
    "## Resolvendo:"
   ]
  },
  {
   "cell_type": "code",
   "execution_count": 12,
   "id": "b8be7403",
   "metadata": {},
   "outputs": [
    {
     "name": "stdout",
     "output_type": "stream",
     "text": [
      "GLPSOL: GLPK LP/MIP Solver, v4.65\n",
      "Parameter(s) specified in the command line:\n",
      " --tmlim 120 --write C:\\Users\\CAU~1\\AppData\\Local\\Temp\\tmpz_2df21t.glpk.raw\n",
      " --wglp C:\\Users\\CAU~1\\AppData\\Local\\Temp\\tmppbqq5k29.glpk.glp --cpxlp C:\\Users\\CAU~1\\AppData\\Local\\Temp\\tmpqxrpre1h.pyomo.lp\n",
      "Reading problem data from 'C:\\Users\\CAU~1\\AppData\\Local\\Temp\\tmpqxrpre1h.pyomo.lp'...\n",
      "C:\\Users\\CAU~1\\AppData\\Local\\Temp\\tmpqxrpre1h.pyomo.lp:9928: warning: lower bound of variable 'x843' redefined\n",
      "C:\\Users\\CAU~1\\AppData\\Local\\Temp\\tmpqxrpre1h.pyomo.lp:9928: warning: upper bound of variable 'x843' redefined\n",
      "1010 rows, 935 columns, 5070 non-zeros\n",
      "935 integer variables, 893 of which are binary\n",
      "10821 lines were read\n",
      "Writing problem data to 'C:\\Users\\CAU~1\\AppData\\Local\\Temp\\tmppbqq5k29.glpk.glp'...\n",
      "8844 lines were written\n",
      "GLPK Integer Optimizer, v4.65\n",
      "1010 rows, 935 columns, 5070 non-zeros\n",
      "935 integer variables, 893 of which are binary\n",
      "Preprocessing...\n",
      "40 constraint coefficient(s) were reduced\n",
      "886 rows, 891 columns, 4906 non-zeros\n",
      "891 integer variables, 851 of which are binary\n",
      "Scaling...\n",
      " A: min|aij| =  1.000e+00  max|aij| =  8.000e+03  ratio =  8.000e+03\n",
      "GM: min|aij| =  8.208e-01  max|aij| =  1.218e+00  ratio =  1.484e+00\n",
      "EQ: min|aij| =  6.804e-01  max|aij| =  1.000e+00  ratio =  1.470e+00\n",
      "2N: min|aij| =  4.883e-01  max|aij| =  1.000e+00  ratio =  2.048e+00\n",
      "Constructing initial basis...\n",
      "Size of triangular part is 884\n",
      "Solving LP relaxation...\n",
      "GLPK Simplex Optimizer, v4.65\n",
      "886 rows, 891 columns, 4906 non-zeros\n",
      "      0: obj =   3.543703034e+03 inf =   3.744e+02 (65)\n",
      "    182: obj =   2.607962053e+03 inf =   1.354e-14 (0) 1\n",
      "*   392: obj =   1.084815372e+03 inf =   2.706e-14 (0) 2\n",
      "OPTIMAL LP SOLUTION FOUND\n",
      "Integer optimization begins...\n",
      "Long-step dual simplex will be used\n",
      "+   392: mip =     not found yet >=              -inf        (1; 0)\n",
      "+   972: >>>>>   1.353749873e+03 >=   1.104159527e+03  18.4% (41; 0)\n",
      "+  1900: >>>>>   1.240135420e+03 >=   1.128398905e+03   9.0% (102; 2)\n",
      "+ 26804: mip =   1.240135420e+03 >=   1.186419522e+03   4.3% (1324; 223)\n",
      "+ 28061: >>>>>   1.236682019e+03 >=   1.187416923e+03   4.0% (1382; 233)\n",
      "+ 28215: >>>>>   1.230655331e+03 >=   1.187488662e+03   3.5% (1294; 385)\n",
      "+ 52322: mip =   1.230655331e+03 >=   1.199777220e+03   2.5% (2121; 948)\n",
      "+ 54720: mip =   1.230655331e+03 >=   1.199777220e+03   2.5% (3320; 948)\n",
      "+ 57072: mip =   1.230655331e+03 >=   1.199777220e+03   2.5% (4496; 948)\n",
      "+ 59372: mip =   1.230655331e+03 >=   1.199777220e+03   2.5% (5646; 948)\n",
      "+ 61636: mip =   1.230655331e+03 >=   1.199777220e+03   2.5% (6778; 948)\n",
      "+ 63874: mip =   1.230655331e+03 >=   1.199777220e+03   2.5% (7897; 948)\n",
      "+ 66096: mip =   1.230655331e+03 >=   1.199777220e+03   2.5% (9008; 948)\n",
      "+ 68240: mip =   1.230655331e+03 >=   1.199777220e+03   2.5% (10080; 948)\n",
      "+ 70394: mip =   1.230655331e+03 >=   1.199777220e+03   2.5% (11157; 948)\n",
      "+ 72540: mip =   1.230655331e+03 >=   1.199777220e+03   2.5% (12230; 948)\n",
      "Time used: 60.0 secs.  Memory used: 14.2 Mb.\n",
      "+ 74524: mip =   1.230655331e+03 >=   1.199777220e+03   2.5% (13222; 948)\n",
      "+ 76462: mip =   1.230655331e+03 >=   1.199777220e+03   2.5% (14191; 948)\n",
      "+ 78434: mip =   1.230655331e+03 >=   1.199777220e+03   2.5% (15177; 948)\n",
      "+ 80388: mip =   1.230655331e+03 >=   1.199777220e+03   2.5% (16154; 948)\n",
      "+ 82336: mip =   1.230655331e+03 >=   1.199777220e+03   2.5% (17128; 948)\n",
      "+ 84192: mip =   1.230655331e+03 >=   1.199777220e+03   2.5% (18056; 948)\n",
      "+ 86054: mip =   1.230655331e+03 >=   1.199777220e+03   2.5% (18987; 948)\n",
      "+ 87900: mip =   1.230655331e+03 >=   1.199777220e+03   2.5% (19910; 948)\n",
      "+ 89680: mip =   1.230655331e+03 >=   1.199777220e+03   2.5% (20800; 948)\n",
      "+ 91456: mip =   1.230655331e+03 >=   1.199777220e+03   2.5% (21688; 948)\n",
      "+ 93174: mip =   1.230655331e+03 >=   1.199777220e+03   2.5% (22547; 948)\n",
      "+ 94666: mip =   1.230655331e+03 >=   1.199777220e+03   2.5% (23293; 948)\n",
      "+ 95986: mip =   1.230655331e+03 >=   1.199777220e+03   2.5% (23953; 948)\n",
      "TIME LIMIT EXCEEDED; SEARCH TERMINATED\n",
      "Time used:   120.0 secs\n",
      "Memory used: 19.6 Mb (20540275 bytes)\n",
      "Writing MIP solution to 'C:\\Users\\CAU~1\\AppData\\Local\\Temp\\tmpz_2df21t.glpk.raw'...\n",
      "1954 lines were written\n"
     ]
    }
   ],
   "source": [
    "# Resolver o modelo\n",
    "solver = SolverFactory('glpk', solver_io='lp')\n",
    "solver.options['tmlim'] = 120\n",
    "\n",
    "results = solver.solve(Modelo, tee=True)"
   ]
  },
  {
   "cell_type": "markdown",
   "id": "4484b502",
   "metadata": {},
   "source": [
    "## Resultados:"
   ]
  },
  {
   "cell_type": "code",
   "execution_count": 11,
   "id": "ffe4602a",
   "metadata": {},
   "outputs": [
    {
     "name": "stdout",
     "output_type": "stream",
     "text": [
      "Rota ótima dia 1:\n",
      "0 -> 9 -> 5 -> 19 -> 6 -> 8 -> 7 -> 11 -> 3 -> 18 -> 2 -> 4 -> 17 -> 1 -> 16 -> 15\n",
      "Rota ótima dia 2:\n",
      "9 -> 11 -> 16 -> 18 -> 5 -> 6 -> 10 -> 8 -> 20 -> 7 -> 12 -> 3 -> 14 -> 2 -> 15 -> 13 -> 4 -> 1 -> 17 -> 19\n",
      "\n",
      "Distância percorrida nos dois dias: 1230.66 Km\n",
      "\n",
      "Capacidade ociosa (1º dia): 9000.0 L\n",
      "\n",
      "Capacidade ociosa (2º dia): 4000.0 L\n"
     ]
    }
   ],
   "source": [
    "distancia_total = value(Modelo.obj)\n",
    "print_rota_otima(Modelo)\n",
    "# Mostrar resultados\n",
    "print(\"\\nDistância percorrida nos dois dias: {:.2f} Km\".format(distancia_total))\n",
    "print(f\"\\nCapacidade ociosa (1º dia): {capacidade - (demanda_fixa + sum(demandas[i] * (1-value(Modelo.z[i])) for i in produtores_alt))} L\")\n",
    "print(f\"\\nCapacidade ociosa (2º dia): {capacidade - (demanda_fixa + sum(demandas[i] * value(Modelo.z[i]) for i in produtores_alt ))} L\")"
   ]
  }
 ],
 "metadata": {
  "kernelspec": {
   "display_name": "Python 3 (ipykernel)",
   "language": "python",
   "name": "python3"
  },
  "language_info": {
   "codemirror_mode": {
    "name": "ipython",
    "version": 3
   },
   "file_extension": ".py",
   "mimetype": "text/x-python",
   "name": "python",
   "nbconvert_exporter": "python",
   "pygments_lexer": "ipython3",
   "version": "3.9.13"
  }
 },
 "nbformat": 4,
 "nbformat_minor": 5
}
