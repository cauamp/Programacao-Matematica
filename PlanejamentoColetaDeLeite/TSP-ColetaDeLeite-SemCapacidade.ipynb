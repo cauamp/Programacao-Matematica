{
 "cells": [
  {
   "cell_type": "code",
   "execution_count": 1,
   "id": "ca8bde6e",
   "metadata": {},
   "outputs": [],
   "source": [
    "from pyomo.environ import *\n",
    "from pyomo.opt import SolverStatus, TerminationCondition\n",
    "import numpy as np"
   ]
  },
  {
   "cell_type": "code",
   "execution_count": 2,
   "id": "b74f36e8",
   "metadata": {},
   "outputs": [],
   "source": [
    "def print_rota_otima(Modelo):\n",
    "    lista_produtores_ordenados = [(i, value(Modelo.y[i])) for i, v in Modelo.y.items() \n",
    "                                  if value(Modelo.y[i]) != 0 or i == 0]\n",
    "    lista_produtores_ordenados.sort(key=lambda x: x[1])\n",
    "\n",
    "    print('Rota ótima:')\n",
    "    print(' -> '.join(str(p) for p, _ in lista_produtores_ordenados))\n"
   ]
  },
  {
   "cell_type": "markdown",
   "id": "8c268aee",
   "metadata": {},
   "source": [
    "# Planejamento de Coleta de Leite\n",
    "\n",
    "---\n",
    "### Descrição do Problema\n",
    "\n",
    "Uma empresa de processamento de leite e derivados é responsável pela coleta de leite produzido por 20 fazendeiros, de forma que o leite seja entregue ao depósito, ou laticínio. A empresa possui um caminhão tanque com capacidade de 80.000 litros de leite. Dos 20 produtores/fazendeiros, 11 são de pequeno porte, de forma que sua produção pode ser coletada em dias alternados (ou seja, dia sim, dia não). Os 9 outros produtores precisam ter suas produções coletadas diariamente. As localizações dos produtores e do laticínio, bem como as demandas de coleta (por visita, ou seja, diária para os que devem ser visitados diariamente e total, referente a dois dias, para os demais) são apresentadas na Tabela 1. Note que a origem do sistema de coordenadas é colocada no ponto 1, que representa o laticínio.\n",
    "\n",
    "Planeje a rota do caminhão tanque, de forma que o veículo percorra a mínima distância possível. Ou seja, deve-se planejar a rota para dois dias de coleta. Em cada um destes dias, os clientes de grande porte devem ser visitados. No primeiro dia, alguns dos clientes de pequeno porte podem ser visitados. Os que não forem visitados no primeiro dia devem ser visitados no segundo dia de planejamento. A capacidade do veículo deve ser respeitada em cada um dos dias. Assume-se que o veículo parte e retorna ao depósito em cada um destes dias.\n",
    "\n",
    "[Mais detalhes do problema](exercicio-coleta-leite.pdf)\n"
   ]
  },
  {
   "cell_type": "markdown",
   "id": "2645105a",
   "metadata": {},
   "source": [
    "Este trabalho apresenta a implementação do modelo MTZ (Miller-Tucker-Zemlin) e sua versão fortalecida para resolver o problema clássico do Caixeiro Viajante, conhecido como Travelling Salesman Problem (TSP). Em uma instância alternativa, o TSP é definido da seguinte maneira:\n",
    "\n",
    "* Uma empresa de processamento de leite e derivados busca otimizar a rota de seu caminhão-tanque, responsável pela coleta de leite em diversos fornecedores, com o objetivo de minimizar a distância total percorrida.\n",
    "* Para realizar o exercício, sera considerando que todos clientes devem ser visitados (naturalmente desconsiderando a restrição de capacidade).\n",
    "\n",
    "\n",
    "O objetivo é encontrar a rota ótima para o deslocamento do veículo. Isso será realizado por meio da formulação matemática do modelo MTZ para o problema de otimização combinatória mencionado, com o propósito de explorar e compreender as implicações decorrentes das escolhas de modelagem."
   ]
  },
  {
   "cell_type": "markdown",
   "id": "11751e09",
   "metadata": {},
   "source": [
    "## Parâmetros para a modelagem"
   ]
  },
  {
   "cell_type": "code",
   "execution_count": 3,
   "id": "7a3c4b17",
   "metadata": {},
   "outputs": [],
   "source": [
    "# Lista de produtores, representando os índices dos produtores\n",
    "produtores = list(range(0, 21))\n",
    "\n",
    "# Dicionário de coordenadas dos produtores, onde a chave é o índice do produtor \n",
    "# e o valor é uma tupla representando as coordenadas (x, y) do produtor\n",
    "coordenadas = {i: coord for i, coord in enumerate([(0, 0), (-30, 30), (10, 110), (40, 70), (-50, 90),\n",
    "               (-50, -20), (-40, -70), (60, 0), (30, -60), (-10, -30),\n",
    "               (0, -60), (60, 40), (20, 50), (-20, 80), (60, 100),\n",
    "               (10, 80), (-30, 10), (-60, 50), (20, 90), (-60, -50), (50, -40)])}\n"
   ]
  },
  {
   "cell_type": "code",
   "execution_count": 4,
   "id": "7e594c21",
   "metadata": {},
   "outputs": [],
   "source": [
    "def calcula_distancia_produtores(p1, p2):\n",
    "        return  np.sqrt((coordenadas[p1][0] - coordenadas[p2][0])**2 + (coordenadas[p1][1] - \n",
    "                                                                            coordenadas[p2][1])**2)"
   ]
  },
  {
   "cell_type": "markdown",
   "id": "15eb762d",
   "metadata": {},
   "source": [
    "## Variáveis de Decisão"
   ]
  },
  {
   "cell_type": "code",
   "execution_count": 5,
   "id": "5b017359",
   "metadata": {},
   "outputs": [],
   "source": [
    "Modelo = ConcreteModel()\n",
    "\n",
    "# Define variáveis booleanas que indicam se a aresta X(i,j) existe, ou seja, se o produtor i está conectado ao produtor j\n",
    "Modelo.x = Var(produtores, produtores, within=Boolean)\n",
    "\n",
    "# Define variáveis que representam o numero de produtores visitados antes de visitar o produtor i\n",
    "Modelo.y = Var(produtores, within=NonNegativeIntegers)"
   ]
  },
  {
   "cell_type": "markdown",
   "id": "bd9d4cdc",
   "metadata": {},
   "source": [
    "## Definindo o objetivo \n",
    "### (Minimizar a distância)"
   ]
  },
  {
   "cell_type": "code",
   "execution_count": 6,
   "id": "b039b874",
   "metadata": {},
   "outputs": [],
   "source": [
    "# Cálculo da distância total percorrida no dia 1\n",
    "distancia = 0\n",
    "for i in produtores:\n",
    "    for j in produtores:\n",
    "        distancia += Modelo.x[i, j] * calcula_distancia_produtores(i, j) \n",
    "\n",
    "# Função objetivo do modelo, onde a distância total percorrida nos dois dias é minimizada\n",
    "Modelo.obj = Objective(expr=(distancia), sense=minimize)"
   ]
  },
  {
   "cell_type": "markdown",
   "id": "540bc7e3",
   "metadata": {},
   "source": [
    "## Definindo as restrições"
   ]
  },
  {
   "cell_type": "code",
   "execution_count": 7,
   "id": "1d7e297d",
   "metadata": {},
   "outputs": [],
   "source": [
    "Modelo.restricoes = ConstraintList()\n",
    "\n",
    "# Garante visitas a todos produtores\n",
    "for i in produtores:\n",
    "    Modelo.restricoes.add(sum(Modelo.x[i, j] for j in produtores) == 1)\n",
    "    Modelo.restricoes.add(sum(Modelo.x[j, i] for j in produtores) == 1)\n",
    "\n",
    "\n",
    "# Garante que a rota comece no ponto de partida (zero)\n",
    "Modelo.restricoes.add(Modelo.y[0] == 0)\n",
    "for i in produtores[1:]:\n",
    "    Modelo.restricoes.add(Modelo.y[i]>=0)\n",
    "    \n",
    "n = len(produtores) \n"
   ]
  },
  {
   "cell_type": "markdown",
   "id": "60ef0c81",
   "metadata": {},
   "source": [
    "## Formulação Fraca\n",
    "As seguintes restrições garantem a conexão completa do grafo da solução, assegurando a existência de um único circuito ótimo que visite todos os vértices em um dado dia. No entanto, observe que essa desigualdade apresenta uma considerável folga para a maioria dos pares de vértices. Isso se reflete durante a etapa de relaxação linear, onde o limite dual alcançado fica significativamente distante do valor ótimo da função objetivo do problema de programação inteira. Como resultado, o algoritmo de Branch-and-Bound pode enfrentar dificuldades na convergência para encontrar a solução desejada, devido à modelagem fraca do problema."
   ]
  },
  {
   "cell_type": "code",
   "execution_count": 8,
   "id": "e55ebd62",
   "metadata": {},
   "outputs": [],
   "source": [
    "for i in produtores:\n",
    "    for j in produtores[1:]:\n",
    "        Modelo.restricoes.add(Modelo.y[j] >= Modelo.y[i] + Modelo.x[i, j] * (n - 1) - (n - 2))"
   ]
  },
  {
   "cell_type": "markdown",
   "id": "30c9c1e1",
   "metadata": {},
   "source": [
    "## Formulação Fortalecida\n",
    "\n",
    "O novo conjunto de restrições de desigualdade é mais restritiva em comparação com a anterior. Portanto, essa restrição é menos flexível e estabelece um limite inferior mais próximo do valor da função objetivo do problema de otimização combinatória, obtido através da relaxação linear. Como resultado, o algoritmo de Branch-and-Bound tende a se tornar mais eficiente, graças a uma formulação mais precisa.\n"
   ]
  },
  {
   "cell_type": "code",
   "execution_count": 12,
   "id": "caf85f50",
   "metadata": {},
   "outputs": [
    {
     "data": {
      "text/plain": [
       "'\\nfor i in produtores:\\n    for j in produtores[1:]:\\n        Modelo.restricoes.add(Modelo.y[j] >= Modelo.y[i] + Modelo.x[i, j] * (n - 1) \\n                              + Modelo.x[j, i] * (n - 3) - (n - 2))\\n'"
      ]
     },
     "execution_count": 12,
     "metadata": {},
     "output_type": "execute_result"
    }
   ],
   "source": [
    "\"\"\"\n",
    "for i in produtores:\n",
    "    for j in produtores[1:]:\n",
    "        Modelo.restricoes.add(Modelo.y[j] >= Modelo.y[i] + Modelo.x[i, j] * (n - 1) \n",
    "                              + Modelo.x[j, i] * (n - 3) - (n - 2))\n",
    "\"\"\""
   ]
  },
  {
   "cell_type": "markdown",
   "id": "3259b632",
   "metadata": {},
   "source": [
    "## Resolvendo:"
   ]
  },
  {
   "cell_type": "code",
   "execution_count": 10,
   "id": "b8be7403",
   "metadata": {
    "scrolled": true
   },
   "outputs": [
    {
     "name": "stdout",
     "output_type": "stream",
     "text": [
      "GLPSOL: GLPK LP/MIP Solver, v4.65\n",
      "Parameter(s) specified in the command line:\n",
      " --tmlim 20 --write C:\\Users\\CAU~1\\AppData\\Local\\Temp\\tmp0f0nzahz.glpk.raw\n",
      " --wglp C:\\Users\\CAU~1\\AppData\\Local\\Temp\\tmpwbrnnqir.glpk.glp --cpxlp C:\\Users\\CAU~1\\AppData\\Local\\Temp\\tmpri7qf210.pyomo.lp\n",
      "Reading problem data from 'C:\\Users\\CAU~1\\AppData\\Local\\Temp\\tmpri7qf210.pyomo.lp'...\n",
      "C:\\Users\\CAU~1\\AppData\\Local\\Temp\\tmpri7qf210.pyomo.lp:4486: warning: lower bound of variable 'x423' redefined\n",
      "C:\\Users\\CAU~1\\AppData\\Local\\Temp\\tmpri7qf210.pyomo.lp:4486: warning: upper bound of variable 'x423' redefined\n",
      "483 rows, 462 columns, 2123 non-zeros\n",
      "462 integer variables, 441 of which are binary\n",
      "4927 lines were read\n",
      "Writing problem data to 'C:\\Users\\CAU~1\\AppData\\Local\\Temp\\tmpwbrnnqir.glpk.glp'...\n",
      "3994 lines were written\n",
      "GLPK Integer Optimizer, v4.65\n",
      "483 rows, 462 columns, 2123 non-zeros\n",
      "462 integer variables, 441 of which are binary\n",
      "Preprocessing...\n",
      "20 constraint coefficient(s) were reduced\n",
      "442 rows, 441 columns, 2022 non-zeros\n",
      "441 integer variables, 421 of which are binary\n",
      "Scaling...\n",
      " A: min|aij| =  1.000e+00  max|aij| =  2.000e+01  ratio =  2.000e+01\n",
      "GM: min|aij| =  5.976e-01  max|aij| =  1.673e+00  ratio =  2.800e+00\n",
      "EQ: min|aij| =  3.571e-01  max|aij| =  1.000e+00  ratio =  2.800e+00\n",
      "2N: min|aij| =  2.500e-01  max|aij| =  1.000e+00  ratio =  4.000e+00\n",
      "Constructing initial basis...\n",
      "Size of triangular part is 441\n",
      "Solving LP relaxation...\n",
      "GLPK Simplex Optimizer, v4.65\n",
      "442 rows, 441 columns, 2022 non-zeros\n",
      "      0: obj =   2.470052753e+03 inf =   2.511e+02 (40)\n",
      "    132: obj =   2.014294830e+03 inf =   9.992e-16 (0) 1\n",
      "*   235: obj =   6.461884108e+02 inf =   1.524e-14 (0) 1\n",
      "OPTIMAL LP SOLUTION FOUND\n",
      "Integer optimization begins...\n",
      "Long-step dual simplex will be used\n",
      "+   235: mip =     not found yet >=              -inf        (1; 0)\n",
      "+   535: >>>>>   8.039822981e+02 >=   6.487495695e+02  19.3% (56; 0)\n",
      "+   810: >>>>>   7.701323436e+02 >=   6.521730047e+02  15.3% (65; 16)\n",
      "+  2636: >>>>>   7.297238293e+02 >=   6.636093120e+02   9.1% (228; 48)\n",
      "+  3201: >>>>>   7.239672847e+02 >=   6.664887448e+02   7.9% (204; 169)\n",
      "+  6956: >>>>>   7.074098257e+02 >=   6.813001364e+02   3.7% (456; 287)\n",
      "+  9286: >>>>>   7.032019630e+02 >=   6.867458678e+02   2.3% (362; 703)\n",
      "+ 10101: >>>>>   6.971032375e+02 >=   6.895428727e+02   1.1% (295; 905)\n",
      "+ 10912: mip =   6.971032375e+02 >=     tree is empty   0.0% (0; 1775)\n",
      "INTEGER OPTIMAL SOLUTION FOUND\n",
      "Time used:   1.0 secs\n",
      "Memory used: 2.0 Mb (2112701 bytes)\n",
      "Writing MIP solution to 'C:\\Users\\CAU~1\\AppData\\Local\\Temp\\tmp0f0nzahz.glpk.raw'...\n",
      "954 lines were written\n"
     ]
    }
   ],
   "source": [
    "# Resolver o modelo\n",
    "solver = SolverFactory('glpk', solver_io='lp')\n",
    "solver.options['tmlim'] = 20\n",
    "\n",
    "results = solver.solve(Modelo, tee=True)"
   ]
  },
  {
   "cell_type": "markdown",
   "id": "4484b502",
   "metadata": {},
   "source": [
    "## Resultados:"
   ]
  },
  {
   "cell_type": "code",
   "execution_count": 11,
   "id": "ffe4602a",
   "metadata": {},
   "outputs": [
    {
     "name": "stdout",
     "output_type": "stream",
     "text": [
      "Rota ótima:\n",
      "0 -> 16 -> 1 -> 17 -> 4 -> 13 -> 15 -> 18 -> 2 -> 14 -> 3 -> 12 -> 11 -> 7 -> 20 -> 8 -> 10 -> 6 -> 19 -> 5 -> 9\n",
      "\n",
      "Distância total percorrida: 697.10 Km\n"
     ]
    }
   ],
   "source": [
    "distancia_total = value(Modelo.obj)\n",
    "print_rota_otima(Modelo)\n",
    "# Mostrar resultados\n",
    "print(\"\\nDistância total percorrida: {:.2f} Km\".format(distancia_total))\n"
   ]
  }
 ],
 "metadata": {
  "kernelspec": {
   "display_name": "Python 3 (ipykernel)",
   "language": "python",
   "name": "python3"
  },
  "language_info": {
   "codemirror_mode": {
    "name": "ipython",
    "version": 3
   },
   "file_extension": ".py",
   "mimetype": "text/x-python",
   "name": "python",
   "nbconvert_exporter": "python",
   "pygments_lexer": "ipython3",
   "version": "3.9.13"
  }
 },
 "nbformat": 4,
 "nbformat_minor": 5
}
