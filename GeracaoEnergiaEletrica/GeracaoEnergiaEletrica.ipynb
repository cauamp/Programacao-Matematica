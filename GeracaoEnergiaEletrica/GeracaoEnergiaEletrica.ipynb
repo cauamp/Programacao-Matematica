{
 "cells": [
  {
   "cell_type": "code",
   "execution_count": 1,
   "id": "13c2576f",
   "metadata": {},
   "outputs": [],
   "source": [
    "from pyomo.environ import *\n",
    "from pyomo.opt import SolverStatus, TerminationCondition"
   ]
  },
  {
   "cell_type": "markdown",
   "id": "4aaf3042",
   "metadata": {},
   "source": [
    "# Planejamento de Geração de Energia\n",
    "\n",
    "### Descrição do Problema\n",
    "\n",
    "A demanda de energia elétrica diária de uma determinada cidade, estratificada pelas horas do dia, é apresentada na Tabela 1. Há três tipos de geradores: 12 unidades do gerador do tipo 1, 10 do tipo 2 e 5 do tipo 3. Cada gerador é capaz de produzir energia em um determinado intervalo, compreendendo um valor mínimo de geração e um valor máximo. Para cada gerador, há um custo horário de geração de energia, por MW, quando o gerador opera no seu mínimo operacional. Adicionalmente, há um custo horário adicional, por MW gerado além do mínimo operacional. A operação de ligar um gerador que se encontra desligado também incorre em um custo (custo de setup), de natureza fixa. Todos estes custos são apresentados na Tabela 2.\n",
    "\n",
    "Além de produzir em quantidade suficiente para atender à demanda de cada intervalo do dia, o conjunto de geradores em operação a qualquer momento do dia deve ter capacidade operacional suficiente para atender um acréscimo de 15% na demanda, apenas ajustando o ponto de operação de cada gerador (sem ligar geradores adicionais no mesmo intervalo de tempo do dia), de forma que a operação de cada gerador ligado ainda permaneça dentro dos limites estabelecidos.\n",
    "\n",
    "[Mais detalhes da modelagem](exercicio-geracao-energia-eletrica.pdf)\n"
   ]
  },
  {
   "cell_type": "markdown",
   "id": "45ea8078",
   "metadata": {},
   "source": [
    "## Parâmetros para a modelagem"
   ]
  },
  {
   "cell_type": "code",
   "execution_count": 2,
   "id": "2279e6fc",
   "metadata": {},
   "outputs": [],
   "source": [
    "maxt = 5  # Número de períodos do dia\n",
    "maxg = 3  # Número de tipos de geradores\n",
    "T = list(range(0, maxt)) # Conjunto de índices de períodos do dia\n",
    "G = list(range(0, maxg)) # Conjunto de tipos de geradores\n",
    "l = [6, 3, 6, 3, 6]  # Duração em horas de cada período do dia. Duração de T[i] = l[i]\n",
    "n = [12, 10, 5] # Quantidade disponível de cada tipo de gerador\n",
    "mn = [850, 1250, 1500] # Potência operacional mínima de cada gerador\n",
    "mx = [2000, 1750, 4000] # Potência operacional máxima de cada gerador\n",
    "c = [1000, 2600, 3000] # Custo da geração por MW. Custo de g[i] = c[i]\n",
    "v = [1020, 2652, 3060] # Custo adicional de geração por MW. Custo de g[i] = c[i]\n",
    "s = [2000, 1000, 500] # Custo de ligar o compressor pelo tipo. Custo de g[i] = c[i]\n",
    "p = 0.15 # Percentual de segurança operacional (reserva operacional, %)\n",
    "d = [15000, 30000, 25000, 40000, 27000] # Demanda de geração para cada intervalo. Demanda de T[i] = d[i]"
   ]
  },
  {
   "cell_type": "markdown",
   "id": "797c446f",
   "metadata": {},
   "source": [
    "## Variáveis de Decisão"
   ]
  },
  {
   "cell_type": "code",
   "execution_count": 3,
   "id": "6fe3586d",
   "metadata": {},
   "outputs": [],
   "source": [
    "\n",
    "Modelo = ConcreteModel()\n",
    "\n",
    "# Quantidade de geradores do tipo g ∈ G que estão ligados e funcionando no período do dia t ∈ T\n",
    "Modelo.z = Var(G, T, within=NonNegativeIntegers)  \n",
    "\n",
    "# Quantidade de geradores que foram ligados em t que não estavam ligados no período anterior t - 1\n",
    "Modelo.w = Var(G, T, within=NonNegativeIntegers)  \n",
    "\n",
    "# Quantidade total de energia produzida no período t pelos geradores do tipo g que estiverem em funcionamento\n",
    "Modelo.x = Var(G, T, within=NonNegativeIntegers) "
   ]
  },
  {
   "cell_type": "markdown",
   "id": "a592615e",
   "metadata": {},
   "source": [
    "## Parcelas da função objetivo"
   ]
  },
  {
   "cell_type": "code",
   "execution_count": 4,
   "id": "65b2563a",
   "metadata": {},
   "outputs": [],
   "source": [
    "# Custo fixo de ligar as unidades do tipo g em t\n",
    "custo_fixo = sum(sum(s[g] * Modelo.w[g, t] for t in T) for g in G)\n",
    "\n",
    "# Custo de produzir ao mínimo nível operacional, o conjunto de geradores que for ligado.\n",
    "custo_minimo = sum(sum(mn[g] * c[g] * l[t] * Modelo.z[g, t] for t in T) for g in G)\n",
    "\n",
    "# Custo de produzir além do mínimo operacional, o conjunto de geradores que for ligado\n",
    "custo_adicional = sum(sum(v[g] * l[t] * (Modelo.x[g, t] - mn[g] * Modelo.z[g, t]) for t in T) for g in G)"
   ]
  },
  {
   "cell_type": "markdown",
   "id": "2ec49786",
   "metadata": {},
   "source": [
    "## Definindo as restrições"
   ]
  },
  {
   "cell_type": "code",
   "execution_count": 5,
   "id": "5276bf14",
   "metadata": {},
   "outputs": [],
   "source": [
    "Modelo.restricoes = ConstraintList()\n",
    "\n",
    "\n",
    "# Atendimento das faixas operacionais dos compressores\n",
    "for g in G:\n",
    "    for t in T:\n",
    "        Modelo.restricoes.add(Modelo.x[g, t] >= mn[g] * Modelo.z[g, t])\n",
    "        Modelo.restricoes.add(Modelo.x[g, t] <= mx[g] * Modelo.z[g, t])\n",
    "\n",
    "# Limites superiores no n´umero de geradores ligados:\n",
    "for g in G:\n",
    "    for t in T:\n",
    "        Modelo.restricoes.add(Modelo.z[g, t] <= n[g])\n",
    "\n",
    "# Atendimento da demanda\n",
    "for t in T:\n",
    "    Modelo.restricoes.add(sum(Modelo.x[g, t] for g in G) >= d[t])\n",
    "\n",
    "# Flexibilidade operacional\n",
    "for t in T:\n",
    "    Modelo.restricoes.add(sum(mx[g] * Modelo.z[g, t] for g in G) >=  d[t] * (1+p))\n",
    "\n",
    "# Acoplamento entre variáveis que indicam o número total de geradores ligados de um tipo g ∈ G \n",
    "# e quantos daquele tipo que foram ligados no período t ∈ T\n",
    "for t in T[1:]:\n",
    "    for g in G:\n",
    "        Modelo.restricoes.add(Modelo.w[g, t] >= Modelo.z[g, t] - Modelo.z[g, (t-1)])\n",
    "        Modelo.restricoes.add(Modelo.w[g, 0] >= Modelo.z[g, 0] - Modelo.z[g, (maxt-1)])\n",
    "    "
   ]
  },
  {
   "cell_type": "markdown",
   "id": "34565d2d",
   "metadata": {},
   "source": [
    "## Definindo o objetivo \n",
    "### (Minimizar)"
   ]
  },
  {
   "cell_type": "code",
   "execution_count": 6,
   "id": "dd0d9d02",
   "metadata": {},
   "outputs": [],
   "source": [
    "Modelo.objetivo = Objective(expr=(custo_fixo + custo_minimo + custo_adicional), sense=minimize)"
   ]
  },
  {
   "cell_type": "markdown",
   "id": "af211199",
   "metadata": {},
   "source": [
    "## Resolvendo:"
   ]
  },
  {
   "cell_type": "code",
   "execution_count": 7,
   "id": "e63fadf7",
   "metadata": {},
   "outputs": [
    {
     "name": "stdout",
     "output_type": "stream",
     "text": [
      "GLPSOL: GLPK LP/MIP Solver, v4.65\n",
      "Parameter(s) specified in the command line:\n",
      " --write C:\\Users\\CAU~1\\AppData\\Local\\Temp\\tmp_74yk18w.glpk.raw --wglp C:\\Users\\CAU~1\\AppData\\Local\\Temp\\tmp5brcvwhh.glpk.glp\n",
      " --cpxlp C:\\Users\\CAU~1\\AppData\\Local\\Temp\\tmpfjws9sui.pyomo.lp\n",
      "Reading problem data from 'C:\\Users\\CAU~1\\AppData\\Local\\Temp\\tmpfjws9sui.pyomo.lp'...\n",
      "79 rows, 45 columns, 177 non-zeros\n",
      "45 integer variables, none of which are binary\n",
      "559 lines were read\n",
      "Writing problem data to 'C:\\Users\\CAU~1\\AppData\\Local\\Temp\\tmp5brcvwhh.glpk.glp'...\n",
      "473 lines were written\n",
      "GLPK Integer Optimizer, v4.65\n",
      "79 rows, 45 columns, 177 non-zeros\n",
      "45 integer variables, none of which are binary\n",
      "Preprocessing...\n",
      "64 rows, 45 columns, 162 non-zeros\n",
      "45 integer variables, none of which are binary\n",
      "Scaling...\n",
      " A: min|aij| =  1.000e+00  max|aij| =  4.000e+03  ratio =  4.000e+03\n",
      "GM: min|aij| =  7.825e-01  max|aij| =  1.278e+00  ratio =  1.633e+00\n",
      "EQ: min|aij| =  6.124e-01  max|aij| =  1.000e+00  ratio =  1.633e+00\n",
      "2N: min|aij| =  3.662e-01  max|aij| =  1.000e+00  ratio =  2.731e+00\n",
      "Constructing initial basis...\n",
      "Size of triangular part is 64\n",
      "Solving LP relaxation...\n",
      "GLPK Simplex Optimizer, v4.65\n",
      "64 rows, 45 columns, 162 non-zeros\n",
      "      0: obj =   5.925000000e+07 inf =   2.233e+03 (13)\n",
      "     38: obj =   1.100490634e+09 inf =   1.421e-14 (0)\n",
      "*    61: obj =   7.843071974e+08 inf =   3.634e-14 (0)\n",
      "OPTIMAL LP SOLUTION FOUND\n",
      "Integer optimization begins...\n",
      "Long-step dual simplex will be used\n",
      "+    61: mip =     not found yet >=              -inf        (1; 0)\n",
      "+    67: >>>>>   7.967960000e+08 >=   7.953080720e+08   0.2% (6; 0)\n",
      "Solution found by heuristic: 796302500\n",
      "+    69: mip =   7.963025000e+08 >=     tree is empty   0.0% (0; 11)\n",
      "INTEGER OPTIMAL SOLUTION FOUND\n",
      "Time used:   0.0 secs\n",
      "Memory used: 0.1 Mb (155891 bytes)\n",
      "Writing MIP solution to 'C:\\Users\\CAU~1\\AppData\\Local\\Temp\\tmp_74yk18w.glpk.raw'...\n",
      "133 lines were written\n",
      "\n",
      "\n",
      "\n",
      "\n",
      "----------------------- RESULTADO -----------------------\n",
      "Custo total: $796302500.00 USD \n",
      "\n",
      "Total de geradores operantes:\n",
      "Instantes |\t 1 |\t 2 |\t 3 |\t 4 |\t 5\n",
      "--------------------------------------------------\n",
      "Tipo 1   |\t 12 |\t12 |\t12 |\t12 |\t12\n",
      "Tipo 2   |\t 00 |\t02 |\t01 |\t10 |\t00\n",
      "Tipo 3   |\t 00 |\t02 |\t01 |\t02 |\t02\n",
      "\n",
      "Total de geradores que foram ligados:\n",
      "Instantes |\t 1 |\t 2 |\t 3 |\t 4 |\t 5\n",
      "--------------------------------------------------\n",
      "Tipo 1   |\t 0 |\t0 |\t0 |\t0 |\t0\n",
      "Tipo 2   |\t 0 |\t2 |\t0 |\t9 |\t0\n",
      "Tipo 3   |\t 0 |\t2 |\t0 |\t1 |\t0\n",
      "\n",
      "Total de demanda atendida no período do dia t=1: 15000.00\n",
      "\n",
      "Total de demanda atendida no período do dia t=2: 30000.00\n",
      "\n",
      "Total de demanda atendida no período do dia t=3: 25000.00\n",
      "\n",
      "Total de demanda atendida no período do dia t=4: 40000.00\n",
      "\n",
      "Total de demanda atendida no período do dia t=5: 27000.00\n"
     ]
    }
   ],
   "source": [
    "solver = SolverFactory('glpk')\n",
    "solver.solve(Modelo, tee=True)\n",
    "\n",
    "custo_total = value(Modelo.objetivo)\n",
    "\n",
    "print(\"\\n\\n\\n\")\n",
    "print(\"----------------------- RESULTADO -----------------------\")\n",
    "print(f\"Custo total: ${custo_total:.2f} USD \\n\")\n",
    "\n",
    "# Total de geradores operantes\n",
    "print(\"Total de geradores operantes:\")\n",
    "print(\"Instantes |\\t 1 |\\t 2 |\\t 3 |\\t 4 |\\t 5\")\n",
    "print(\"--------------------------------------------------\")\n",
    "for g in G:\n",
    "    print(f\"Tipo {g+1}   |\\t\", \" |\\t\".join(f\"{int(value(Modelo.z[g, t])):02d}\" for t in T))\n",
    "\n",
    "# Total de geradores que foram ligados\n",
    "print(\"\\nTotal de geradores que foram ligados:\")\n",
    "print(\"Instantes |\\t 1 |\\t 2 |\\t 3 |\\t 4 |\\t 5\")\n",
    "print(\"--------------------------------------------------\")\n",
    "for g in G:\n",
    "    print(f\"Tipo {g+1}   |\\t\", \" |\\t\".join(f\"{int(value(Modelo.w[g, t]))}\" for t in T))\n",
    "\n",
    "# Total de demanda atendida em cada período do dia\n",
    "for t in T:\n",
    "    total_demanda = sum(value(Modelo.x[g, t]) for g in G)\n",
    "    print(f\"\\nTotal de demanda atendida no período do dia t={t+1}: {total_demanda:.2f}\")\n"
   ]
  }
 ],
 "metadata": {
  "cells": [
   {
    "cell_type": "markdown",
    "id": "57f59393",
    "metadata": {},
    "source": [
     "### Modelagem do Problema do Fluxo de Caixa\n",
     "Prof. Alexandre Salles da Cunha"
    ]
   },
   {
    "cell_type": "code",
    "execution_count": 21,
    "id": "3b30c11a",
    "metadata": {},
    "outputs": [],
    "source": [
     "from pyomo.environ import *\n",
     "from pyomo.opt import SolverStatus, TerminationCondition\n",
     "import numpy as np\n",
     "import math"
    ]
   },
   {
    "cell_type": "code",
    "execution_count": 22,
    "id": "d4ac9ab0",
    "metadata": {},
    "outputs": [],
    "source": [
     "m = 10 # no. de titulos\n",
     "n = 6  # no. de meses\n",
     "J = list(range(0,m)) # conjunto de titulos\n",
     "I = list(range(0,n)) # conjunto de períodos de tempo\n",
     "p = [109.0, 94.8, 99.5, 93.1, 97.2, 92.9, 110.0, 104.0, 102, 95.2]\n",
     "y   = [100, 200, 800, 100, 800, 1200]\n",
     "c = [[10.0, 7.0, 8.0, 6.0, 7.0, 5.0, 10.0, 8.0, 7.0, 100],\n",
     "                  [10.0, 7.0, 8.0, 6.0, 7.0, 5.0, 10.0, 8.0, 107.0,0.0],\n",
     "                  [10.0, 7.0, 8.0, 6.0, 7.0, 5.0, 110.0, 108.0, 0.0, 0.0],\n",
     "                  [10.0, 7.0, 8.0, 6.0, 7.0, 105.0, 0.0, 0.0, 0.0, 0.0],\n",
     "                  [10.0, 7.0, 8.0, 106.0, 107.0, 0.0, 0.0, 0.0, 0.0, 0.0],\n",
     "                  [110.0, 107.0, 108.0, 0.0, 0.0, 0.0, 0.0, 0.0, 0.0, 0.0]]\n",
     "                  "
    ]
   },
   {
    "cell_type": "code",
    "execution_count": 23,
    "id": "70877392",
    "metadata": {},
    "outputs": [],
    "source": [
     "def RestricaoNecessidadeCaixa(Model,J,i,c,y):\n",
     "    expressao = sum(Model.x[j] * c[i][j] for j in J) - y[i]\n",
     "    return expressao >= 0.0"
    ]
   },
   {
    "cell_type": "code",
    "execution_count": 24,
    "id": "cc4333ef",
    "metadata": {},
    "outputs": [],
    "source": [
     "Caixa = ConcreteModel()\n",
     "# x representa a quantidade de titulos do tipo j adquirida no periodo i\n",
     "Caixa.x = Var(J,within = NonNegativeReals)\n",
     "Caixa.obj = Objective(expr = sum(p[j] * Caixa.x[j] for j in J), sense = minimize)\n",
     "Caixa.atendimento = ConstraintList()\n",
     "for i in I:\n",
     "    expressao = RestricaoNecessidadeCaixa(Caixa,J,i,c,y)\n",
     "    Caixa.atendimento.add(expressao)"
    ]
   },
   {
    "cell_type": "code",
    "execution_count": 40,
    "id": "143f3e83",
    "metadata": {},
    "outputs": [
     {
      "name": "stdout",
      "output_type": "stream",
      "text": [
       "GLPSOL: GLPK LP/MIP Solver, v4.65\n",
       "Parameter(s) specified in the command line:\n",
       " --write /tmp/tmpjgb0og1o.glpk.raw --wglp /tmp/tmpk98ojvsj.glpk.glp --cpxlp\n",
       " /tmp/tmp4lsil960.pyomo.lp\n",
       "Reading problem data from '/tmp/tmp4lsil960.pyomo.lp'...\n",
       "7 rows, 11 columns, 42 non-zeros\n",
       "91 lines were read\n",
       "Writing problem data to '/tmp/tmpk98ojvsj.glpk.glp'...\n",
       "80 lines were written\n",
       "GLPK Simplex Optimizer, v4.65\n",
       "7 rows, 11 columns, 42 non-zeros\n",
       "Preprocessing...\n",
       "6 rows, 10 columns, 41 non-zeros\n",
       "Scaling...\n",
       " A: min|aij| =  5.000e+00  max|aij| =  1.100e+02  ratio =  2.200e+01\n",
       "GM: min|aij| =  2.345e-01  max|aij| =  4.264e+00  ratio =  1.818e+01\n",
       "EQ: min|aij| =  5.940e-02  max|aij| =  1.000e+00  ratio =  1.684e+01\n",
       "Constructing initial basis...\n",
       "Size of triangular part is 6\n",
       "      0: obj =   0.000000000e+00 inf =   2.422e+03 (6)\n",
       "      5: obj =   2.759256000e+03 inf =   0.000e+00 (0)\n",
       "*     6: obj =   2.381138830e+03 inf =   0.000e+00 (0)\n",
       "OPTIMAL LP SOLUTION FOUND\n",
       "Time used:   0.0 secs\n",
       "Memory used: 0.0 Mb (42043 bytes)\n",
       "Writing basic solution to '/tmp/tmpjgb0og1o.glpk.raw'...\n",
       "27 lines were written\n",
       "Custo total dos titulos = 2381.14\n",
       "Titulo 1 quantidade, x = 11.21\n",
       "Titulo 3 quantidade, x =  6.81\n",
       "Titulo 7 quantidade, x =  6.30\n",
       "Titulo 8 quantidade, x =  0.28\n"
      ]
     }
    ],
    "source": [
     "#solver = SolverFactory('xpress_direct') ## pacote comercial de alto desempenho\n",
     "solver = SolverFactory('glpk') ## codigo shareware, gratuito de prog linear inteira\n",
     "#solver = SolverFactory('ipopt') ## codigo de programaçao não linear, gratuito\n",
     "solver.solve(Caixa,tee = True)\n",
     "solver.solve(Caixa)\n",
     "\n",
     "\n",
     "custo = value(Caixa.obj)\n",
     "print(\"Custo total dos titulos = %5.2f\" % custo)\n",
     "for j in J:\n",
     "    if value(Caixa.x[j]) > 0.0:\n",
     "        print('Titulo',j,\"quantidade, x = %5.2f\" % value(Caixa.x[j]))\n",
     "\n"
    ]
   },
   {
    "cell_type": "code",
    "execution_count": null,
    "id": "8539ac92",
    "metadata": {},
    "outputs": [],
    "source": []
   },
   {
    "cell_type": "code",
    "execution_count": null,
    "id": "25c9ca7c",
    "metadata": {},
    "outputs": [],
    "source": []
   }
  ],
  "kernelspec": {
   "display_name": "Python 3 (ipykernel)",
   "language": "python",
   "name": "python3"
  },
  "language_info": {
   "codemirror_mode": {
    "name": "ipython",
    "version": 3
   },
   "file_extension": ".py",
   "mimetype": "text/x-python",
   "name": "python",
   "nbconvert_exporter": "python",
   "pygments_lexer": "ipython3",
   "version": "3.9.13"
  },
  "metadata": {
   "kernelspec": {
    "display_name": "Python 3",
    "language": "python",
    "name": "python3"
   },
   "language_info": {
    "codemirror_mode": {
     "name": "ipython",
     "version": 3
    },
    "file_extension": ".py",
    "mimetype": "text/x-python",
    "name": "python",
    "nbconvert_exporter": "python",
    "pygments_lexer": "ipython3",
    "version": "3.8.8"
   }
  },
  "nbformat": 4,
  "nbformat_minor": 5,
  "widgets": {
   "application/vnd.jupyter.widget-state+json": {
    "state": {},
    "version_major": 2,
    "version_minor": 0
   }
  }
 },
 "nbformat": 4,
 "nbformat_minor": 5
}
